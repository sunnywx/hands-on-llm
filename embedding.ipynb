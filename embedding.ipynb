{
 "cells": [
  {
   "cell_type": "code",
   "execution_count": 7,
   "metadata": {},
   "outputs": [
    {
     "name": "stdout",
     "output_type": "stream",
     "text": [
      "写一篇小红书文案, 关于一人公司<|assistant|>的求职经历\n",
      "\n",
      "标题：✨一个人公司的面试秘籍✨\n",
      "正文：\n",
      "Hey小伙伴们，👋 我们今天要聊聊关于一个人公司的工作面试！👀\n",
      "\n",
      "我曾经在一家独立的科技公司工作过，那时候我们有10人左右。我记得那个夏天，我们团队决定成立一个小小的团队，每个成员都是全职的。一开始，大家都觉得挺难的，但后来慢慢适应了这个环境。\n",
      "\n",
      "这次面试是第一次去独立公司做面试官，感觉\n"
     ]
    }
   ],
   "source": [
    "from transformers import AutoTokenizer, AutoModelForCausalLM\n",
    "import torch\n",
    "\n",
    "\n",
    "model_name='Qwen/Qwen2.5-0.5B-Instruct'\n",
    "\n",
    "device=torch.device('cpu')\n",
    "\n",
    "model=AutoModelForCausalLM.from_pretrained(\n",
    "  model_name,\n",
    "  device_map={\"\": device},\n",
    "  # torch_dtype='auto',\n",
    "  torch_dtype=torch.float16,\n",
    "  # trust_remote_code=True,\n",
    "  low_cpu_mem_usage=True\n",
    ")\n",
    "\n",
    "tokenizer=AutoTokenizer.from_pretrained(model_name)\n",
    "\n",
    "# print(model)\n",
    "\n",
    "prompt='写一篇小红书文案, 关于一人公司<|assistant|>'\n",
    "\n",
    "# tokenize input prompt\n",
    "input_ids=tokenizer(prompt, return_tensors='pt').input_ids.to(device)\n",
    "\n",
    "# gen text\n",
    "gen_output=model.generate(\n",
    "  input_ids=input_ids,\n",
    "  max_new_tokens=100\n",
    ")\n",
    "\n",
    "# print(gen_output)\n",
    "\n",
    "print(tokenizer.decode(gen_output[0]))"
   ]
  },
  {
   "cell_type": "code",
   "execution_count": 13,
   "metadata": {},
   "outputs": [
    {
     "name": "stdout",
     "output_type": "stream",
     "text": [
      "tensor([[14990,    11,   879,   525,   498]])\n"
     ]
    }
   ],
   "source": [
    "from transformers import AutoTokenizer\n",
    "import torch\n",
    "\n",
    "# device=torch.device('mps')\n",
    "device=torch.device('cpu')\n",
    "tokenizer=AutoTokenizer.from_pretrained('Qwen/Qwen2.5-0.5B-Instruct')\n",
    "\n",
    "prompt='hello, who are you'\n",
    "\n",
    "input_ids=tokenizer(prompt, return_tensors='pt').input_ids.to(device)\n",
    "print(input_ids)"
   ]
  },
  {
   "cell_type": "code",
   "execution_count": 47,
   "metadata": {},
   "outputs": [
    {
     "name": "stdout",
     "output_type": "stream",
     "text": [
      "[CLS]\n",
      "hello\n",
      "world\n",
      "[SEP]\n"
     ]
    }
   ],
   "source": [
    "from transformers import AutoTokenizer, AutoModel\n",
    "import torch\n",
    "import os\n",
    "\n",
    "# Set proxy\n",
    "os.environ['HTTP_PROXY'] = 'http://127.0.0.1:1087'\n",
    "os.environ['HTTPS_PROXY'] = 'http://127.0.0.1:1087'\n",
    "\n",
    "embed_model='nomic-ai/nomic-embed-text-v1.5'\n",
    "\n",
    "tokenizer=AutoTokenizer.from_pretrained(embed_model)\n",
    "\n",
    "# prompt='写一篇小红书文案, 关于一人公司<|assistant|>'\n",
    "prompt='hello world'\n",
    "input_ids=tokenizer(prompt, return_tensors='pt').input_ids.to('mps')\n",
    "# print(input_ids)\n",
    "\n",
    "# see each token\n",
    "for id in input_ids[0]:\n",
    "  # print(id)\n",
    "  print(tokenizer.decode(id))\n"
   ]
  }
 ],
 "metadata": {
  "kernelspec": {
   "display_name": "venv",
   "language": "python",
   "name": "python3"
  },
  "language_info": {
   "codemirror_mode": {
    "name": "ipython",
    "version": 3
   },
   "file_extension": ".py",
   "mimetype": "text/x-python",
   "name": "python",
   "nbconvert_exporter": "python",
   "pygments_lexer": "ipython3",
   "version": "3.11.9"
  }
 },
 "nbformat": 4,
 "nbformat_minor": 2
}
