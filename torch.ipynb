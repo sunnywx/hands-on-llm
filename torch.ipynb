{
 "cells": [
  {
   "cell_type": "code",
   "execution_count": 2,
   "metadata": {},
   "outputs": [
    {
     "name": "stdout",
     "output_type": "stream",
     "text": [
      "tensor([[0.7116, 0.5448, 0.6148],\n",
      "        [0.0842, 0.2941, 0.3177],\n",
      "        [0.9562, 0.4074, 0.1198],\n",
      "        [0.3916, 0.0420, 0.6703],\n",
      "        [0.2378, 0.7915, 0.0403]])\n"
     ]
    }
   ],
   "source": [
    "import torch\n",
    "\n",
    "x=torch.rand(5, 3)\n",
    "print(x)"
   ]
  }
 ],
 "metadata": {
  "kernelspec": {
   "display_name": "venv",
   "language": "python",
   "name": "python3"
  },
  "language_info": {
   "codemirror_mode": {
    "name": "ipython",
    "version": 3
   },
   "file_extension": ".py",
   "mimetype": "text/x-python",
   "name": "python",
   "nbconvert_exporter": "python",
   "pygments_lexer": "ipython3",
   "version": "3.11.9"
  }
 },
 "nbformat": 4,
 "nbformat_minor": 2
}
